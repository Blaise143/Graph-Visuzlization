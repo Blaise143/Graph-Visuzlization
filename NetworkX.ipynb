{
 "cells": [
  {
   "cell_type": "markdown",
   "metadata": {},
   "source": [
    "## Creating Graphs in NetworkX\n",
    "Graphs are a very powerful tool for modern day programming. One of the most popular libraries for visualizing graphs isn the `NetworkX` library. In this notebook, I will go through some of the aspects of the library."
   ]
  },
  {
   "cell_type": "markdown",
   "metadata": {},
   "source": [
    "When In order to use the networkx library, there is a need to first create a `Graph` object. The object is an empty graph without nodes nor edges. The code cell below does that."
   ]
  },
  {
   "cell_type": "code",
   "execution_count": 1,
   "metadata": {
    "ExecuteTime": {
     "end_time": "2022-12-13T06:43:12.665907Z",
     "start_time": "2022-12-13T06:43:12.647162Z"
    }
   },
   "outputs": [
    {
     "data": {
      "text/plain": "'Graph with 0 nodes and 0 edges'"
     },
     "execution_count": 1,
     "metadata": {},
     "output_type": "execute_result"
    }
   ],
   "source": [
    "import matplotlib.pyplot as plt\n",
    "%matplotlib inline\n",
    "import networkx as nx\n",
    "G = nx.Graph()\n",
    "\n",
    "# Lets check the number of nodes and edges in the graph.\n",
    "nx.info(G)"
   ]
  },
  {
   "cell_type": "markdown",
   "metadata": {},
   "source": [
    "Having created the graph, we can start adding nodes to the graph object. There are several ways to add nodes to a graph.\n",
    "- One way is to use the `add_node()` method. This method adds one individual node at a time\n",
    "- The `add_nodes_from()` method takes in a list of nodes to be added to the graph at once.\n",
    "\n",
    "The code cell below shows these two ways of adding nodes to our graph. It also draws the nodes using the `nx.draw()` function"
   ]
  },
  {
   "cell_type": "code",
   "execution_count": 2,
   "metadata": {
    "ExecuteTime": {
     "end_time": "2022-12-13T06:43:15.758498Z",
     "start_time": "2022-12-13T06:43:13.042286Z"
    }
   },
   "outputs": [
    {
     "name": "stdout",
     "output_type": "stream",
     "text": [
      "Graph with 6 nodes and 0 edges\n"
     ]
    },
    {
     "data": {
      "text/plain": "<Figure size 432x288 with 1 Axes>",
      "image/png": "[encoded data removed]"
     },
     "metadata": {},
     "output_type": "display_data"
    }
   ],
   "source": [
    "\n",
    "# Adding nodes 1,2,3 individualy\n",
    "G.add_node(1)\n",
    "G.add_node(2)\n",
    "G.add_node(3)\n",
    "\n",
    "## Adding multiple nodes at once\n",
    "G.add_nodes_from([5,6,7])\n",
    "\n",
    "\n",
    "# Checking the graph info\n",
    "print(nx.info(G))\n",
    "# Drawing the graph\n",
    "nx.draw(G, with_labels=True)\n",
    "plt.grid()"
   ]
  },
  {
   "cell_type": "markdown",
   "metadata": {},
   "source": [
    "We can also add attributes. An attribute could be anything. You could choose to give a node a name or height or anything.\n",
    "If we wanted to add a node with a name \"Blaise\" and a height \"6ft\", the code would look like this"
   ]
  },
  {
   "cell_type": "code",
   "execution_count": 3,
   "metadata": {
    "ExecuteTime": {
     "end_time": "2022-12-13T06:43:15.766604Z",
     "start_time": "2022-12-13T06:43:15.766557Z"
    }
   },
   "outputs": [
    {
     "data": {
      "text/plain": "({10: 'Blaise'}, {10: '6ft'})"
     },
     "execution_count": 3,
     "metadata": {},
     "output_type": "execute_result"
    }
   ],
   "source": [
    "G.add_node(10, name= \"Blaise\", height=\"6ft\")\n",
    "nx.get_node_attributes(G, \"name\"), nx.get_node_attributes(G, \"height\")"
   ]
  },
  {
   "cell_type": "markdown",
   "metadata": {},
   "source": [
    "We can also add multiple attributes at once. For instance, if we wanted to add the attribute name to nodes 1 to 6. We would do it this way:\n"
   ]
  },
  {
   "cell_type": "code",
   "execution_count": 4,
   "metadata": {
    "ExecuteTime": {
     "end_time": "2022-12-13T06:43:15.770520Z",
     "start_time": "2022-12-13T06:43:15.770466Z"
    }
   },
   "outputs": [
    {
     "name": "stdout",
     "output_type": "stream",
     "text": [
      "{1: 'one', 2: 'two', 3: 'three', 5: 'five', 6: 'six'}\n"
     ]
    }
   ],
   "source": [
    "names = {\n",
    "    1: \"one\",\n",
    "    2: \"two\",\n",
    "    3: \"three\",\n",
    "    4: \"Four\",\n",
    "    5: \"five\",\n",
    "    6: \"six\"\n",
    "}\n",
    "nx.set_node_attributes(G, names, \"names\")\n",
    "print(nx.get_node_attributes(G, \"names\"))"
   ]
  },
  {
   "cell_type": "markdown",
   "metadata": {},
   "source": [
    "#### Adding Edges\n",
    "\n",
    "Adding edges to our graph is also just as easy as adding nodes to it.  There are several ways to add edges to the graph. Some of them include:\n",
    "- Using the `add_edge()` method. This method adds one edge at a time. It takes in two arguments, which are the nodes to be connected.\n",
    "- using the `add_edges_from()` method. This method takes in a list of tuples of nodes to be connected by an edge, It can add multiple edges at a time\n",
    "\n",
    "The code cell below shows these two methods in practice\n",
    "\n"
   ]
  },
  {
   "cell_type": "code",
   "execution_count": 5,
   "metadata": {
    "ExecuteTime": {
     "end_time": "2022-12-13T06:43:15.777942Z",
     "start_time": "2022-12-13T06:43:15.777906Z"
    }
   },
   "outputs": [
    {
     "name": "stdout",
     "output_type": "stream",
     "text": [
      "Graph with 7 nodes and 7 edges\n"
     ]
    },
    {
     "data": {
      "text/plain": "<Figure size 432x288 with 1 Axes>",
      "image/png": "[encoded data removed]"
     },
     "metadata": {},
     "output_type": "display_data"
    }
   ],
   "source": [
    "# Adding edges\n",
    "G.add_edge(1,2)\n",
    "G.add_edges_from([(7,5), (5,1), (1,7), (3,6), (6,7), (6,1)])\n",
    "print(nx.info(G))\n",
    "nx.draw(G, with_labels=True)"
   ]
  },
  {
   "cell_type": "markdown",
   "metadata": {},
   "source": [
    "Simmilary to the nodes, we can also add atrributes to edges. For instance, if node 2 and node 3 are siblings, we might want to show that relationship. The code cell below show how we could do that.\n"
   ]
  },
  {
   "cell_type": "code",
   "execution_count": 6,
   "metadata": {
    "ExecuteTime": {
     "end_time": "2022-12-13T06:43:16.357372Z",
     "start_time": "2022-12-13T06:43:16.346074Z"
    }
   },
   "outputs": [
    {
     "name": "stdout",
     "output_type": "stream",
     "text": [
      "{(2, 3): 'Siblings'}\n"
     ]
    }
   ],
   "source": [
    "G.add_edge(2,3, relationship= \"Siblings\")\n",
    "print(nx.get_edge_attributes(G, \"relationship\"))"
   ]
  },
  {
   "cell_type": "markdown",
   "metadata": {},
   "source": [
    "#### NetworkX and Pandas DataFrames\n",
    "\n",
    "NetworkX interracts well with pandas DataFrames. I will show how to use networkx with pandas dataframes.\n",
    "\n",
    "Suppose I just found out that I had covid and wanted to visualize the network of people I interracted with to determine if I might have infected some.\n",
    "I created a pandas dataframe below"
   ]
  },
  {
   "cell_type": "code",
   "execution_count": 7,
   "metadata": {
    "ExecuteTime": {
     "end_time": "2022-12-13T06:43:19.632018Z",
     "start_time": "2022-12-13T06:43:18.681332Z"
    }
   },
   "outputs": [
    {
     "data": {
      "text/plain": "     from      to\n0  Blaise   James\n1   James    Matt\n2    Matt  Blaise\n3   James    Mary\n4    Mary  Blaise",
      "text/html": "<div>\n<style scoped>\n    .dataframe tbody tr th:only-of-type {\n        vertical-align: middle;\n    }\n\n    .dataframe tbody tr th {\n        vertical-align: top;\n    }\n\n    .dataframe thead th {\n        text-align: right;\n    }\n</style>\n<table border=\"1\" class=\"dataframe\">\n  <thead>\n    <tr style=\"text-align: right;\">\n      <th></th>\n      <th>from</th>\n      <th>to</th>\n    </tr>\n  </thead>\n  <tbody>\n    <tr>\n      <th>0</th>\n      <td>Blaise</td>\n      <td>James</td>\n    </tr>\n    <tr>\n      <th>1</th>\n      <td>James</td>\n      <td>Matt</td>\n    </tr>\n    <tr>\n      <th>2</th>\n      <td>Matt</td>\n      <td>Blaise</td>\n    </tr>\n    <tr>\n      <th>3</th>\n      <td>James</td>\n      <td>Mary</td>\n    </tr>\n    <tr>\n      <th>4</th>\n      <td>Mary</td>\n      <td>Blaise</td>\n    </tr>\n  </tbody>\n</table>\n</div>"
     },
     "execution_count": 7,
     "metadata": {},
     "output_type": "execute_result"
    }
   ],
   "source": [
    "import pandas as pd\n",
    "data = pd.DataFrame(data=[['Blaise','James'],['James','Matt'], ['Matt', 'Blaise'],\n",
    "                          ['James', 'Mary'], ['Mary', 'Blaise']], columns=[\"from\", \"to\"])\n",
    "data"
   ]
  },
  {
   "cell_type": "code",
   "execution_count": 9,
   "metadata": {
    "ExecuteTime": {
     "end_time": "2022-12-13T06:43:20.311735Z",
     "start_time": "2022-12-13T06:43:20.176181Z"
    }
   },
   "outputs": [
    {
     "name": "stdout",
     "output_type": "stream",
     "text": [
      "Graph with 4 nodes and 5 edges\n"
     ]
    },
    {
     "data": {
      "text/plain": "<Figure size 432x288 with 1 Axes>",
      "image/png": "[encoded data removed]"
     },
     "metadata": {},
     "output_type": "display_data"
    }
   ],
   "source": [
    "GA = nx.from_pandas_edgelist(data, source=\"from\", target=\"to\")\n",
    "print(nx.info(GA))\n",
    "nx.draw(GA, with_labels=True)"
   ]
  },
  {
   "cell_type": "markdown",
   "metadata": {},
   "source": [
    "#### Adjacency Matrix\n",
    "\n",
    "We can also generate an adjacency matrix from the graph by using the `adjacency_matrix()` method in the nx module."
   ]
  },
  {
   "cell_type": "code",
   "execution_count": 10,
   "metadata": {
    "ExecuteTime": {
     "end_time": "2022-12-13T06:43:21.736483Z",
     "start_time": "2022-12-13T06:43:21.618772Z"
    }
   },
   "outputs": [
    {
     "data": {
      "text/plain": "matrix([[0, 1, 1, 1],\n        [1, 0, 1, 1],\n        [1, 1, 0, 0],\n        [1, 1, 0, 0]])"
     },
     "execution_count": 10,
     "metadata": {},
     "output_type": "execute_result"
    }
   ],
   "source": [
    "adj_mat = nx.adjacency_matrix(GA).todense()\n",
    "adj_mat"
   ]
  },
  {
   "cell_type": "markdown",
   "metadata": {},
   "source": [
    "#### Conclusion\n",
    "\n",
    "Overall, the `networkx` Despite the fact that the library is convenient and can be  powerful in making it easy for a person to work on graph data, It has its own flaws.\n",
    "One of the biggest flaws of this library (at the current version of it) is that, \n",
    "- Each time you run the `nx.draw()` method, you get a different point of view of the visualization. Even though mathematically speacking the representation is the same, This might stand as a problem sometimes if you try to visibly reproduce the visualization of the graph.\n",
    "\n",
    "With that being said, the nx library still stands as a very powerful too. In this notebook, I just scratched the surfave of the possibilities of the library.\n",
    "\n",
    "**Thank you For Going Through The Notebook**"
   ]
  }
 ],
 "metadata": {
  "kernelspec": {
   "display_name": "Python 3 (ipykernel)",
   "language": "python",
   "name": "python3"
  },
  "language_info": {
   "codemirror_mode": {
    "name": "ipython",
    "version": 3
   },
   "file_extension": ".py",
   "mimetype": "text/x-python",
   "name": "python",
   "nbconvert_exporter": "python",
   "pygments_lexer": "ipython3",
   "version": "3.9.7"
  }
 },
 "nbformat": 4,
 "nbformat_minor": 1
}
